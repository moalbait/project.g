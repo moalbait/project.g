{
 "cells": [
  {
   "cell_type": "markdown",
   "metadata": {
    "collapsed": true
   },
   "source": [
    "# Lab 1, Exercise 6\n",
    "# Perform Troubleshooting and Error Handling\n"
   ]
  },
  {
   "cell_type": "code",
   "execution_count": 6,
   "metadata": {},
   "outputs": [
    {
     "name": "stdout",
     "output_type": "stream",
     "text": [
      "3\n",
      "3\n"
     ]
    }
   ],
   "source": [
    "# The following line of code will generate an error.  Identify and fix the probem.\n",
    "# a = 1 ; b = 2 ; c == a + b ; print(c)\n",
    "a = 1 ; b = 2 ; c = a + b ;print(c)\n",
    "a = 1 ; b = 2 ; c == a + b ; print(c)\n"
   ]
  },
  {
   "cell_type": "code",
   "execution_count": 7,
   "metadata": {},
   "outputs": [
    {
     "name": "stdout",
     "output_type": "stream",
     "text": [
      "Python version is:  3.11.5 (tags/v3.11.5:cce6ba9, Aug 24 2023, 14:38:34) [MSC v.1936 64 bit (AMD64)]\n"
     ]
    }
   ],
   "source": [
    "# The following line of code will generate errors.  Identify and fix the problems.\n",
    "# os.system('dir) ; version = sys.version ; print \"Python version is: \" version\n",
    "import os, sys\n",
    "os.system('dir') ; version = sys.version ; print(\"Python version is: \", version)\n"
   ]
  },
  {
   "cell_type": "code",
   "execution_count": 8,
   "metadata": {},
   "outputs": [
    {
     "name": "stdout",
     "output_type": "stream",
     "text": [
      "The OS on this system is:  Windows\n",
      "The OS is not Mac.\n"
     ]
    }
   ],
   "source": [
    "# The following line of code will generate errors.  Identify and fix the problems.\n",
    "# if platform.system <> 'Mac': print(\"The OS on this system is: \",platform.system() ; print(\"The OS is not Windows.)\n",
    "import platform\n",
    "if platform.system() != 'Mac': print(\"The OS on this system is: \",platform.system()) ; print(\"The OS is not Mac.\")\n",
    "\n",
    "     "
   ]
  },
  {
   "cell_type": "code",
   "execution_count": 13,
   "metadata": {},
   "outputs": [
    {
     "name": "stdout",
     "output_type": "stream",
     "text": [
      "file not found error occured\n"
     ]
    }
   ],
   "source": [
    "# Try to open a non-existent file and note the error generated\n",
    "try:\n",
    "    with  open(\"np041215web.xml\",\"r\") as publishingfile:\n",
    "          print(\"passed\")\n",
    "except FileNotFoundError as e:\n",
    "    print(\"file not found error occured\")"
   ]
  },
  {
   "cell_type": "code",
   "execution_count": 14,
   "metadata": {},
   "outputs": [
    {
     "name": "stdout",
     "output_type": "stream",
     "text": [
      "The file does not exist or is not available.  Please verify the file name and try again.\n"
     ]
    }
   ],
   "source": [
    "# Use a try / except statement to change the message generated\n",
    "try:\n",
    "    publishingfile = open(\"np041215web.xml\",\"r\")\n",
    "except IOError: print('The file does not exist or is not available.  Please verify the file name and try again.')\n",
    "    \n"
   ]
  },
  {
   "cell_type": "code",
   "execution_count": 15,
   "metadata": {},
   "outputs": [
    {
     "name": "stdout",
     "output_type": "stream",
     "text": [
      "The file does not exist or is not available.  Please verify the file name and try again.\n"
     ]
    }
   ],
   "source": [
    "# Create the file and try opening it again.  Add an else clause to print a message when successful.    \n",
    "try:\n",
    "    publishingfile = open(\"np041215web.xml\",\"r\")\n",
    "except IOError: print('The file does not exist or is not available.  Please verify the file name and try again.')\n",
    "else:\n",
    "    print('The file was opened successfully.')\n",
    "    publishingfile.close()"
   ]
  },
  {
   "cell_type": "code",
   "execution_count": 16,
   "metadata": {},
   "outputs": [
    {
     "name": "stdout",
     "output_type": "stream",
     "text": [
      "Please install the missing module and try again.\n"
     ]
    }
   ],
   "source": [
    "# Use the raise statement to manually generate an error, then use it to test an except clause that responds to the error.\n",
    "try:\n",
    "    import numpy as np\n",
    "    array1 = np.array([2,4,6,8,10])\n",
    "    max1 = array1.max()\n",
    "    raise ModuleNotFoundError\n",
    "except ModuleNotFoundError: print(\"Please install the missing module and try again.\")\n",
    "    \n"
   ]
  },
  {
   "cell_type": "code",
   "execution_count": 3,
   "metadata": {},
   "outputs": [
    {
     "name": "stdout",
     "output_type": "stream",
     "text": [
      "Please install the missing module and try again.\n"
     ]
    }
   ],
   "source": [
    "# Add additional except clauses to see how the try statement behaves\n",
    "try:\n",
    "    import numpy as np\n",
    "    array1 = np.array([2,4,6,8,10])\n",
    "    max1 = array1.max()\n",
    "    raise ModuleNotFoundError\n",
    "    # raise ValueError\n",
    "except ModuleNotFoundError: print(\"Please install the missing module and try again.\")\n",
    "except (IOError, ValueError): print(\"Please make sure the required resource is available or specify the correct syntax.\")\n",
    "except KeyboardInterrupt: print(\"Please wait until the process is finished.\")\n"
   ]
  },
  {
   "cell_type": "code",
   "execution_count": 2,
   "metadata": {},
   "outputs": [
    {
     "name": "stdout",
     "output_type": "stream",
     "text": [
      "The operation was successful.\n",
      "The end.\n"
     ]
    }
   ],
   "source": [
    "# Include else and finally clauses\n",
    "try:\n",
    "    import numpy as np\n",
    "    array1 = np.array([2,4,6,8,10])\n",
    "    max1 = array1.max()\n",
    "    #raise ModuleNotFoundError\n",
    "except ModuleNotFoundError: print(\"Please install the missing module and try again.\")\n",
    "else:\n",
    "    print(\"The operation was successful.\")\n",
    "finally:\n",
    "    print(\"The end.\")\n"
   ]
  },
  {
   "cell_type": "code",
   "execution_count": 1,
   "metadata": {},
   "outputs": [],
   "source": [
    "# Use the logging module to create a log file that stores all 5 message levels.\n",
    "# Record log entries to test it then view the file content\n",
    "import logging, os, platform, datetime\n",
    "timestring = datetime.datetime.utcnow().strftime(\"%Y%m%d%H%M%S%f\")\n",
    "logfile = 'python_' + timestring + '.log'\n",
    "logging.basicConfig(filename=logfile, level=logging.DEBUG,format='%(asctime)s_%(levelname)s: %(message)s')\n",
    "logging.debug('This is a debug message.')\n",
    "logging.info('This is an info message.')\n",
    "logging.warning('This is a warning message.')\n",
    "logging.error('This is an eror message.')\n",
    "logging.critical('This is a critical message.')\n",
    "if platform.system() == 'Windows':\n",
    "    os.system('type ' + logfile)\n",
    "else:\n",
    "    os.system('cat ' + logfile)\n",
    "\n",
    "    "
   ]
  },
  {
   "cell_type": "code",
   "execution_count": null,
   "metadata": {},
   "outputs": [],
   "source": []
  }
 ],
 "metadata": {
  "kernelspec": {
   "display_name": "Python 3",
   "language": "python",
   "name": "python3"
  },
  "language_info": {
   "codemirror_mode": {
    "name": "ipython",
    "version": 3
   },
   "file_extension": ".py",
   "mimetype": "text/x-python",
   "name": "python",
   "nbconvert_exporter": "python",
   "pygments_lexer": "ipython3",
   "version": "3.11.5"
  }
 },
 "nbformat": 4,
 "nbformat_minor": 2
}
