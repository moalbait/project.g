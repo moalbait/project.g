{
 "cells": [
  {
   "cell_type": "markdown",
   "metadata": {
    "collapsed": true
   },
   "source": [
    "# Lab 1, Exercise 3\n",
    "# Control Flow with Decisions and Loops\n"
   ]
  },
  {
   "cell_type": "code",
   "execution_count": 1,
   "metadata": {},
   "outputs": [
    {
     "name": "stdout",
     "output_type": "stream",
     "text": [
      "The variable is not equal to 100.\n"
     ]
    }
   ],
   "source": [
    "# Using an if statement to find out if a variable is equal to 100\n",
    "int1 = 50\n",
    "if int1 == 100:\n",
    "    print(\"The variable is equal to 100.\")\n",
    "else: \n",
    "    print(\"The variable is not equal to 100.\")"
   ]
  },
  {
   "cell_type": "code",
   "execution_count": 4,
   "metadata": {},
   "outputs": [
    {
     "name": "stdout",
     "output_type": "stream",
     "text": [
      "The variable is not between 1 and 10\n"
     ]
    }
   ],
   "source": [
    "# Using an if statement to compare a variable to multiple values\n",
    "int1 = 40\n",
    "if int1 == 10: \n",
    "    print(\"The variable is equal to 10\")\n",
    "elif int1 == 9: \n",
    "    print(\"The variable is equal to 9\")\n",
    "elif int1 == 8: \n",
    "    print(\"The variable is equal to 8\")\n",
    "elif int1 == 7: \n",
    "    print(\"The variable is equal to 7\")\n",
    "elif int1 == 6: \n",
    "    print(\"The variable is equal to 6\")\n",
    "elif int1 == 5: \n",
    "    print(\"The variable is equal to 5\")\n",
    "elif int1 == 4: \n",
    "    print(\"The variable is equal to 4\")\n",
    "elif int1 == 3: \n",
    "    print(\"The variable is equal to 3\")\n",
    "elif int1 == 2: \n",
    "    print(\"The variable is equal to 2\")\n",
    "elif int1 == 1: \n",
    "    print(\"The variable is equal to 1\")\n",
    "else: \n",
    "    print(\"The variable is not between 1 and 10\")"
   ]
  },
  {
   "cell_type": "code",
   "execution_count": 6,
   "metadata": {},
   "outputs": [
    {
     "name": "stdout",
     "output_type": "stream",
     "text": [
      "Thank you for shopping at our store.\n",
      "Your purchase will be added to your rewards card.\n"
     ]
    }
   ],
   "source": [
    "# Using an if statement to print multiple statements\n",
    "cost = 90\n",
    "if cost >= 100: \n",
    "    print(\"You qualify for a 10% discount on a future purchase.\")\n",
    "    print(\"Please go to customer service for your discount card.\")\n",
    "else: \n",
    "    print(\"Thank you for shopping at our store.\")\n",
    "    print(\"Your purchase will be added to your rewards card.\")"
   ]
  },
  {
   "cell_type": "code",
   "execution_count": 7,
   "metadata": {},
   "outputs": [
    {
     "name": "stdout",
     "output_type": "stream",
     "text": [
      "shirts\n",
      "pants\n",
      "socks\n",
      "hats\n",
      "glasses\n",
      "shoes\n"
     ]
    }
   ],
   "source": [
    "# Using a for statement to print the values in a list\n",
    "clothes = ['shirts','pants','socks','hats','glasses','shoes']\n",
    "for i in clothes:\n",
    "    print(i)\n"
   ]
  },
  {
   "cell_type": "code",
   "execution_count": 9,
   "metadata": {},
   "outputs": [
    {
     "name": "stdout",
     "output_type": "stream",
     "text": [
      "shirts\n",
      "pants\n",
      "socks\n",
      "glasses\n",
      "shoes\n"
     ]
    }
   ],
   "source": [
    "# Using the for and continue statements.  Test the code by changing continue to break.\n",
    "clothes = ['shirts','pants','socks','hats','glasses','shoes']\n",
    "for i in clothes:\n",
    "    if i == 'hats': \n",
    "        continue\n",
    "    print(i)"
   ]
  },
  {
   "cell_type": "code",
   "execution_count": 10,
   "metadata": {},
   "outputs": [
    {
     "name": "stdout",
     "output_type": "stream",
     "text": [
      "shirts\n",
      "pants\n",
      "socks\n"
     ]
    }
   ],
   "source": [
    "# Using the for and continue statements.  Test the code by changing continue to break.\n",
    "clothes = ['shirts','pants','socks','hats','glasses','shoes']\n",
    "for i in clothes:\n",
    "    if i == 'hats': \n",
    "        break\n",
    "    print(i)"
   ]
  },
  {
   "cell_type": "code",
   "execution_count": 11,
   "metadata": {},
   "outputs": [
    {
     "name": "stdout",
     "output_type": "stream",
     "text": [
      "The old list1 is:  [2, 4, 6, 8, 10]\n",
      "The new list1 is:  [6, 12, 18, 24, 30]\n"
     ]
    }
   ],
   "source": [
    "# Using a for statement to modify the values in a list\n",
    "list1 = [2,4,6,8,10]\n",
    "print(\"The old list1 is: \", list1)\n",
    "for i in range(len(list1)):\n",
    "    list1[i] = list1[i] * 3\n",
    "print(\"The new list1 is: \", list1)\n"
   ]
  },
  {
   "cell_type": "code",
   "execution_count": 15,
   "metadata": {},
   "outputs": [
    {
     "name": "stdout",
     "output_type": "stream",
     "text": [
      "FirstName\n",
      "LastName\n",
      "Age\n"
     ]
    }
   ],
   "source": [
    "# Using a for statement to parse a dictionary\n",
    "dict1 = {'FirstName':'William','LastName':'Robinson','Age':24}\n",
    "for i in dict1:\n",
    "    print(i)\n"
   ]
  },
  {
   "cell_type": "code",
   "execution_count": 13,
   "metadata": {},
   "outputs": [
    {
     "name": "stdout",
     "output_type": "stream",
     "text": [
      "William\n",
      "Robinson\n",
      "24\n"
     ]
    }
   ],
   "source": [
    "# Using a for statement to parse a dictionary\n",
    "dict1 = {'FirstName':'William','LastName':'Robinson','Age':24}\n",
    "for i in dict1.values():\n",
    "    print(i)"
   ]
  },
  {
   "cell_type": "code",
   "execution_count": 16,
   "metadata": {},
   "outputs": [
    {
     "name": "stdout",
     "output_type": "stream",
     "text": [
      "The value of the variable is:  1\n",
      "The value of the variable is:  2\n",
      "The value of the variable is:  3\n",
      "The value of the variable is:  4\n",
      "The value of the variable is:  5\n",
      "The value of the variable is:  6\n",
      "The value of the variable is:  7\n",
      "The value of the variable is:  8\n",
      "The value of the variable is:  9\n",
      "The value of the variable is:  10\n"
     ]
    }
   ],
   "source": [
    "# Using a while statement to do a looping operation 10 times\n",
    "count = 1\n",
    "while count < 11:\n",
    "    print(\"The value of the variable is: \", count)\n",
    "    count += 1\n",
    "    "
   ]
  },
  {
   "cell_type": "code",
   "execution_count": 17,
   "metadata": {},
   "outputs": [
    {
     "name": "stdout",
     "output_type": "stream",
     "text": [
      "The value of the variable is:  1\n",
      "The value of the variable is:  2\n",
      "The value of the variable is:  3\n",
      "The value of the variable is:  4\n"
     ]
    }
   ],
   "source": [
    "# Using the while and break statements.  Test the code by changing break to continue (infinite loop).\n",
    "count = 1\n",
    "while count < 11:\n",
    "    if count == 5: \n",
    "        break\n",
    "    print(\"The value of the variable is: \", count)\n",
    "    count += 1"
   ]
  },
  {
   "cell_type": "code",
   "execution_count": 18,
   "metadata": {},
   "outputs": [
    {
     "name": "stdout",
     "output_type": "stream",
     "text": [
      "Enter the number 0 to end the loop.\n",
      "Enter the number 0 to end the loop.\n",
      "Enter the number 0 to end the loop.\n",
      "Count is equal to:  0\n"
     ]
    }
   ],
   "source": [
    "# Using a while statement to continue indefinitely until a specified value is entered\n",
    "count = 1\n",
    "while count != 0:\n",
    "    print(\"Enter the number 0 to end the loop.\")\n",
    "    count = int(input(\"Enter a number: \"))\n",
    "print(\"Count is equal to: \", count)"
   ]
  },
  {
   "cell_type": "code",
   "execution_count": null,
   "metadata": {},
   "outputs": [
    {
     "name": "stdout",
     "output_type": "stream",
     "text": [
      "Count is greater than 1. ( 10 )\n",
      "Count is greater than 1. ( 9 )\n",
      "Count is greater than 1. ( 8 )\n",
      "Count is greater than 1. ( 7 )\n",
      "Count is greater than 1. ( 6 )\n",
      "Count is greater than 1. ( 5 )\n",
      "Count is greater than 1. ( 4 )\n",
      "Count is greater than 1. ( 3 )\n",
      "Count is greater than 1. ( 2 )\n",
      "Count is less than or equal to 1\n"
     ]
    }
   ],
   "source": [
    "# Using a while statement with else\n",
    "count = 10\n",
    "while count > 1:\n",
    "    print(\"Count is greater than 1. (\",count,\")\")\n",
    "    count -= 1\n",
    "else: \n",
    "    print(\"Count is less than or equal to 1\")\n"
   ]
  },
  {
   "cell_type": "code",
   "execution_count": null,
   "metadata": {},
   "outputs": [],
   "source": [
    "# This code is an extension of what was done in the previous exercise (You may also view the C:\\Labfiles\\CreateRG.py).\n",
    "# In addition to creating a storage account, you will now be copying files to a blob and file share that are accessible over the Internet\n",
    "# As in the previous exercise, run the code from Azure Cloud Shell\n",
    "import datetime, os\n",
    "from azure.common.client_factory import get_client_from_cli_profile\n",
    "from azure.mgmt.resource import ResourceManagementClient\n",
    "from azure.mgmt.storage import StorageManagementClient\n",
    "from azure.storage.common import CloudStorageAccount\n",
    "from azure.storage.file import FileService\n",
    "from azure.storage.blob import PublicAccess\n",
    "resource_client = get_client_from_cli_profile(ResourceManagementClient)\n",
    "storage_client = get_client_from_cli_profile(StorageManagementClient)\n",
    "nameprefix = 'np' + (datetime.datetime.now()).strftime('%H%M%S')\n",
    "resourcegroupname = nameprefix + 'rg'\n",
    "storageaccountname = nameprefix + 'sa'\n",
    "location = 'eastus'\n",
    "sharename = '55264a'\n",
    "\n",
    "# create a test file to be uploaded to your blob and file share\n",
    "os.system('echo \"This is a test.\" > test.txt')\n",
    "filename = 'test.txt'\n",
    "\n",
    "# Create the Resource Group and Storage Account\n",
    "resource_group_params = {'location':location}\n",
    "resource_client.resource_groups.create_or_update(resourcegroupname, resource_group_params)\n",
    "storageaccount = storage_client.storage_accounts.create(resourcegroupname, storageaccountname, {'location':location,'kind':'storage','sku':{'name':'standard_ragrs'}})\n",
    "storageaccount.wait()\n",
    "\n",
    "# Create Container and Share\n",
    "sak = storage_client.storage_accounts.list_keys(resourcegroupname, storageaccountname)\n",
    "storageaccountkey = sak.keys[0].value\n",
    "cloudstorage_client =  CloudStorageAccount(storageaccountname,storageaccountkey)\n",
    "blob_service = cloudstorage_client.create_block_blob_service()\n",
    "blob_service.create_container(sharename,public_access=PublicAccess.Container)\n",
    "file_service = FileService(account_name=storageaccountname, account_key=storageaccountkey)\n",
    "file_service.create_share(sharename)\n",
    "\n",
    "# Copy Setup Files to Container and Share\n",
    "blob_service.create_blob_from_path(sharename,filename,filename,)\n",
    "file_service.create_file_from_path(sharename,'',filename,filename,)\n",
    "\n",
    "# Delete Resource Group.  Deleting a resource group will also deleted all objects in it.\n",
    "# delete_async_operation = resource_client.resource_groups.delete(resourcegroupname)\n",
    "# delete_async_operation.wait()\n"
   ]
  },
  {
   "cell_type": "code",
   "execution_count": null,
   "metadata": {},
   "outputs": [],
   "source": []
  }
 ],
 "metadata": {
  "kernelspec": {
   "display_name": "Python 3",
   "language": "python",
   "name": "python3"
  },
  "language_info": {
   "codemirror_mode": {
    "name": "ipython",
    "version": 3
   },
   "file_extension": ".py",
   "mimetype": "text/x-python",
   "name": "python",
   "nbconvert_exporter": "python",
   "pygments_lexer": "ipython3",
   "version": "3.13.7"
  }
 },
 "nbformat": 4,
 "nbformat_minor": 2
}
