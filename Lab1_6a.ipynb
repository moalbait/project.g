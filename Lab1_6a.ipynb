{
 "cells": [
  {
   "cell_type": "markdown",
   "metadata": {
    "collapsed": true
   },
   "source": [
    "# Lab 1, Exercise 6\n",
    "# Perform Troubleshooting and Error Handling\n"
   ]
  },
  {
   "cell_type": "code",
   "execution_count": 1,
   "metadata": {},
   "outputs": [
    {
     "name": "stdout",
     "output_type": "stream",
     "text": [
      "3\n"
     ]
    }
   ],
   "source": [
    "# The following line of code will generate an error.  Identify and fix the probem.\n",
    "# a = 1 ; b = 2 ; c == a + b ; print(c)\n",
    "a = 1 ; b = 2 ; c = a + b ; print(c)\n"
   ]
  },
  {
   "cell_type": "code",
   "execution_count": 2,
   "metadata": {},
   "outputs": [
    {
     "name": "stdout",
     "output_type": "stream",
     "text": [
      "Python version is:  3.12.4 | packaged by Anaconda, Inc. | (main, Jun 18 2024, 15:03:56) [MSC v.1929 64 bit (AMD64)]\n"
     ]
    }
   ],
   "source": [
    "# The following line of code will generate errors.  Identify and fix the problems.\n",
    "# os.system('dir) ; version = sys.version ; print \"Python version is: \" version\n",
    "import os, sys\n",
    "os.system('dir') ; version = sys.version ; print(\"Python version is: \", version)\n"
   ]
  },
  {
   "cell_type": "code",
   "execution_count": 3,
   "metadata": {},
   "outputs": [
    {
     "name": "stdout",
     "output_type": "stream",
     "text": [
      "The OS on this system is:  Windows\n",
      "The OS is not Mac.\n"
     ]
    }
   ],
   "source": [
    "# The following line of code will generate errors.  Identify and fix the problems.\n",
    "# if platform.system <> 'Mac': print(\"The OS on this system is: \",platform.system() ; print(\"The OS is not Windows.)\n",
    "import platform\n",
    "if platform.system() != 'Mac': print(\"The OS on this system is: \",platform.system()) ; print(\"The OS is not Mac.\")\n",
    "\n",
    "     "
   ]
  },
  {
   "cell_type": "code",
   "execution_count": null,
   "metadata": {},
   "outputs": [
    {
     "ename": "FileNotFoundError",
     "evalue": "[Errno 2] No such file or directory: 'np041215web.xml'",
     "output_type": "error",
     "traceback": [
      "\u001b[1;31m---------------------------------------------------------------------------\u001b[0m",
      "\u001b[1;31mFileNotFoundError\u001b[0m                         Traceback (most recent call last)",
      "Cell \u001b[1;32mIn[4], line 2\u001b[0m\n\u001b[0;32m      1\u001b[0m \u001b[38;5;66;03m# Try to open a non-existent file and note the error generated\u001b[39;00m\n\u001b[1;32m----> 2\u001b[0m publishingfile \u001b[38;5;241m=\u001b[39m \u001b[38;5;28;43mopen\u001b[39;49m\u001b[43m(\u001b[49m\u001b[38;5;124;43m\"\u001b[39;49m\u001b[38;5;124;43mnp041215web.xml\u001b[39;49m\u001b[38;5;124;43m\"\u001b[39;49m\u001b[43m,\u001b[49m\u001b[38;5;124;43m\"\u001b[39;49m\u001b[38;5;124;43mr\u001b[39;49m\u001b[38;5;124;43m\"\u001b[39;49m\u001b[43m)\u001b[49m\n",
      "File \u001b[1;32m~\\AppData\\Roaming\\Python\\Python312\\site-packages\\IPython\\core\\interactiveshell.py:310\u001b[0m, in \u001b[0;36m_modified_open\u001b[1;34m(file, *args, **kwargs)\u001b[0m\n\u001b[0;32m    303\u001b[0m \u001b[38;5;28;01mif\u001b[39;00m file \u001b[38;5;129;01min\u001b[39;00m {\u001b[38;5;241m0\u001b[39m, \u001b[38;5;241m1\u001b[39m, \u001b[38;5;241m2\u001b[39m}:\n\u001b[0;32m    304\u001b[0m     \u001b[38;5;28;01mraise\u001b[39;00m \u001b[38;5;167;01mValueError\u001b[39;00m(\n\u001b[0;32m    305\u001b[0m         \u001b[38;5;124mf\u001b[39m\u001b[38;5;124m\"\u001b[39m\u001b[38;5;124mIPython won\u001b[39m\u001b[38;5;124m'\u001b[39m\u001b[38;5;124mt let you open fd=\u001b[39m\u001b[38;5;132;01m{\u001b[39;00mfile\u001b[38;5;132;01m}\u001b[39;00m\u001b[38;5;124m by default \u001b[39m\u001b[38;5;124m\"\u001b[39m\n\u001b[0;32m    306\u001b[0m         \u001b[38;5;124m\"\u001b[39m\u001b[38;5;124mas it is likely to crash IPython. If you know what you are doing, \u001b[39m\u001b[38;5;124m\"\u001b[39m\n\u001b[0;32m    307\u001b[0m         \u001b[38;5;124m\"\u001b[39m\u001b[38;5;124myou can use builtins\u001b[39m\u001b[38;5;124m'\u001b[39m\u001b[38;5;124m open.\u001b[39m\u001b[38;5;124m\"\u001b[39m\n\u001b[0;32m    308\u001b[0m     )\n\u001b[1;32m--> 310\u001b[0m \u001b[38;5;28;01mreturn\u001b[39;00m \u001b[43mio_open\u001b[49m\u001b[43m(\u001b[49m\u001b[43mfile\u001b[49m\u001b[43m,\u001b[49m\u001b[43m \u001b[49m\u001b[38;5;241;43m*\u001b[39;49m\u001b[43margs\u001b[49m\u001b[43m,\u001b[49m\u001b[43m \u001b[49m\u001b[38;5;241;43m*\u001b[39;49m\u001b[38;5;241;43m*\u001b[39;49m\u001b[43mkwargs\u001b[49m\u001b[43m)\u001b[49m\n",
      "\u001b[1;31mFileNotFoundError\u001b[0m: [Errno 2] No such file or directory: 'np041215web.xml'"
     ]
    }
   ],
   "source": [
    "# Try to open a non-existent file and note the error generated\n",
    "publishingfile = open(\"np041215web.xml\",\"r\")\n"
   ]
  },
  {
   "cell_type": "code",
   "execution_count": 5,
   "metadata": {},
   "outputs": [
    {
     "name": "stdout",
     "output_type": "stream",
     "text": [
      "The file does not exist or is not available.  Please verify the file name and try again.\n"
     ]
    }
   ],
   "source": [
    "# Use a try / except statement to change the message generated\n",
    "try:\n",
    "    publishingfile = open(\"np041215web.xml\",\"r\")\n",
    "except IOError: print('The file does not exist or is not available.  Please verify the file name and try again.')\n",
    "    \n"
   ]
  },
  {
   "cell_type": "code",
   "execution_count": 6,
   "metadata": {},
   "outputs": [
    {
     "name": "stdout",
     "output_type": "stream",
     "text": [
      "The file does not exist or is not available.  Please verify the file name and try again.\n"
     ]
    }
   ],
   "source": [
    "# Create the file and try opening it again.  Add an else clause to print a message when successful.    \n",
    "try:\n",
    "    publishingfile = open(\"np041215web.xml\",\"r\")\n",
    "except IOError: print('The file does not exist or is not available.  Please verify the file name and try again.')\n",
    "else:\n",
    "    print('The file was opened successfully.')\n",
    "    publishingfile.close()"
   ]
  },
  {
   "cell_type": "code",
   "execution_count": 7,
   "metadata": {},
   "outputs": [
    {
     "name": "stdout",
     "output_type": "stream",
     "text": [
      "Please install the missing module and try again.\n"
     ]
    }
   ],
   "source": [
    "# Use the raise statement to manually generate an error, then use it to test an except clause that responds to the error.\n",
    "try:\n",
    "    import numpy as np\n",
    "    array1 = np.array([2,4,6,8,10])\n",
    "    max1 = array1.max()\n",
    "    raise ModuleNotFoundError\n",
    "except ModuleNotFoundError: print(\"Please install the missing module and try again.\")\n",
    "    \n"
   ]
  },
  {
   "cell_type": "code",
   "execution_count": 8,
   "metadata": {},
   "outputs": [
    {
     "name": "stdout",
     "output_type": "stream",
     "text": [
      "Please install the missing module and try again.\n"
     ]
    }
   ],
   "source": [
    "# Add additional except clauses to see how the try statement behaves\n",
    "try:\n",
    "    import numpy as np\n",
    "    array1 = np.array([2,4,6,8,10])\n",
    "    max1 = array1.max()\n",
    "    raise ModuleNotFoundError\n",
    "    # raise ValueError\n",
    "except ModuleNotFoundError: print(\"Please install the missing module and try again.\")\n",
    "except (IOError, ValueError): print(\"Please make sure the required resource is available or specify the correct syntax.\")\n",
    "except KeyboardInterrupt: print(\"Please wait until the process is finished.\")\n"
   ]
  },
  {
   "cell_type": "code",
   "execution_count": 9,
   "metadata": {},
   "outputs": [
    {
     "name": "stdout",
     "output_type": "stream",
     "text": [
      "Please install the missing module and try again.\n",
      "The end.\n"
     ]
    }
   ],
   "source": [
    "# Include else and finally clauses\n",
    "try:\n",
    "    import numpy as np\n",
    "    array1 = np.array([2,4,6,8,10])\n",
    "    max1 = array1.max()\n",
    "    raise ModuleNotFoundError\n",
    "except ModuleNotFoundError: print(\"Please install the missing module and try again.\")\n",
    "else:\n",
    "    print(\"The operation was successful.\")\n",
    "finally:\n",
    "    print(\"The end.\")\n"
   ]
  },
  {
   "cell_type": "code",
   "execution_count": 10,
   "metadata": {},
   "outputs": [
    {
     "name": "stderr",
     "output_type": "stream",
     "text": [
      "C:\\Users\\GURINDER\\AppData\\Local\\Temp\\ipykernel_3240\\3375134334.py:4: DeprecationWarning: datetime.datetime.utcnow() is deprecated and scheduled for removal in a future version. Use timezone-aware objects to represent datetimes in UTC: datetime.datetime.now(datetime.UTC).\n",
      "  timestring = datetime.datetime.utcnow().strftime(\"%Y%m%d%H%M%S%f\")\n"
     ]
    }
   ],
   "source": [
    "# Use the logging module to create a log file that stores all 5 message levels.\n",
    "# Record log entries to test it then view the file content\n",
    "import logging, os, platform, datetime\n",
    "timestring = datetime.datetime.utcnow().strftime(\"%Y%m%d%H%M%S%f\")\n",
    "logfile = 'python_' + timestring + '.log'\n",
    "logging.basicConfig(filename=logfile, level=logging.DEBUG,format='%(asctime)s_%(levelname)s: %(message)s')\n",
    "logging.debug('This is a debug message.')\n",
    "logging.info('This is an info message.')\n",
    "logging.warning('This is a warning message.')\n",
    "logging.error('This is an eror message.')\n",
    "logging.critical('This is a critical message.')\n",
    "if platform.system() == 'Windows':\n",
    "    os.system('type ' + logfile)\n",
    "else:\n",
    "    os.system('cat ' + logfile)\n",
    "\n",
    "    "
   ]
  },
  {
   "cell_type": "code",
   "execution_count": null,
   "metadata": {},
   "outputs": [],
   "source": []
  }
 ],
 "metadata": {
  "kernelspec": {
   "display_name": "base",
   "language": "python",
   "name": "python3"
  },
  "language_info": {
   "codemirror_mode": {
    "name": "ipython",
    "version": 3
   },
   "file_extension": ".py",
   "mimetype": "text/x-python",
   "name": "python",
   "nbconvert_exporter": "python",
   "pygments_lexer": "ipython3",
   "version": "3.12.4"
  }
 },
 "nbformat": 4,
 "nbformat_minor": 2
}
