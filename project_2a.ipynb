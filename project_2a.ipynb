{
 "cells": [
  {
   "cell_type": "code",
   "execution_count": null,
   "id": "0f20f846",
   "metadata": {},
   "outputs": [],
   "source": [
    "while True:\n",
    "    try:\n",
    "        hours =float(input(\" please enter worked hours : \"))\n",
    "        break\n",
    "    except ValueError:\n",
    "        print(\"please enter a numeric value\")\n",
    "while True:\n",
    "    try: \n",
    "        rate = float(input(\"please enter hourly rate : \"))\n",
    "        break\n",
    "    except ValueError:\n",
    "        print(\"please enter a numeric value\")\n",
    "\n",
    "if hours > 40 :\n",
    "    pay = (hours*rate)+ (hours -40)*rate*1.5\n",
    "else:\n",
    "        pay = hours*rate\n",
    "print(\"pay :\",pay)\n"
   ]
  },
  {
   "cell_type": "code",
   "execution_count": null,
   "id": "26cf1261",
   "metadata": {},
   "outputs": [],
   "source": [
    "while True:\n",
    "  \n",
    "    try:\n",
    "        score = float(input(\"please enter your score: \"))\n",
    "        if score >= 0.0 and score <= 1.0:\n",
    "            break\n",
    "        else:\n",
    "            print(\"Bad score\")\n",
    "    except ValueError:\n",
    "        print (\"Bad Score\")\n",
    "\n",
    "\n",
    "if score >= 0.9 :\n",
    "                print(\"A\")\n",
    "elif score >= 0.8:\n",
    "                print(\"B\")\n",
    "elif score >= 0.7:\n",
    "                print(\"C\")\n",
    "elif score >= 0.6:\n",
    "                print(\"D\")\n",
    "else:\n",
    "                print(\"F\")"
   ]
  }
 ],
 "metadata": {
  "kernelspec": {
   "display_name": "Python 3",
   "language": "python",
   "name": "python3"
  },
  "language_info": {
   "codemirror_mode": {
    "name": "ipython",
    "version": 3
   },
   "file_extension": ".py",
   "mimetype": "text/x-python",
   "name": "python",
   "nbconvert_exporter": "python",
   "pygments_lexer": "ipython3",
   "version": "3.11.5"
  }
 },
 "nbformat": 4,
 "nbformat_minor": 5
}
