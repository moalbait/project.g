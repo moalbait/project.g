{
 "cells": [
  {
   "cell_type": "code",
   "execution_count": null,
   "id": "2dd525ef",
   "metadata": {},
   "outputs": [
    {
     "name": "stdout",
     "output_type": "stream",
     "text": [
      "hello\n"
     ]
    }
   ],
   "source": [
    "print(\"hello\")\n",
    "inp = input(\"Enter fahrenheit Temperature  : \")\n",
    "try:\n",
    "    fahr = float(inp)\n",
    "    cel = (fahr - 32.0) * 5.0 / 9.0\n",
    "    print(cel)\n",
    "except:\n",
    "    print(\"Please enter a valid number\")"
   ]
  },
  {
   "cell_type": "code",
   "execution_count": null,
   "id": "d749771d",
   "metadata": {},
   "outputs": [],
   "source": [
    "while True :\n",
    "    try:\n",
    "        hours= float(input(\"enter hours you worked : \"))\n",
    "        break\n",
    "  \n",
    "    except ValueError:\n",
    "            print(\"Please enter numeric input\")\n",
    "\n",
    "while True :\n",
    "       try : \n",
    "          rate = float(input(\"enter the rate per hour :\"))\n",
    "          break\n",
    "       except ValueError:\n",
    "            print(\"Please enter numeric input\")\n",
    "\n",
    "if hours  > 40 :\n",
    "     pay = (hours*rate) + (hours-40)*(rate*1.5)\n",
    "     print(\"Your pay is : \" ,pay)\n",
    "else :\n",
    "     pay = hours*rate\n",
    "print(\"Your pay is : \",pay)"
   ]
  },
  {
   "cell_type": "code",
   "execution_count": null,
   "id": "06be4454",
   "metadata": {},
   "outputs": [],
   "source": [
    "x = 10\n",
    "y = 5\n",
    "if x > y :\n",
    "    print(\"x is greater than y\")"
   ]
  }
 ],
 "metadata": {
  "kernelspec": {
   "display_name": "Python 3",
   "language": "python",
   "name": "python3"
  },
  "language_info": {
   "codemirror_mode": {
    "name": "ipython",
    "version": 3
   },
   "file_extension": ".py",
   "mimetype": "text/x-python",
   "name": "python",
   "nbconvert_exporter": "python",
   "pygments_lexer": "ipython3",
   "version": "3.11.5"
  }
 },
 "nbformat": 4,
 "nbformat_minor": 5
}
