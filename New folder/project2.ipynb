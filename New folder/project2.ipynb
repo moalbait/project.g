{
 "cells": [
  {
   "cell_type": "code",
   "execution_count": 1,
   "id": "83754411",
   "metadata": {},
   "outputs": [
    {
     "name": "stdout",
     "output_type": "stream",
     "text": [
      "hello woreld\n",
      "hello world\n"
     ]
    }
   ],
   "source": [
    "# Cell 0: print original and corrected greetings\n",
    "print(\"hello woreld\")  # original\n",
    "print(\"hello world\")   # corrected"
   ]
  },
  {
   "cell_type": "code",
   "execution_count": 1,
   "id": "7bd37b5a",
   "metadata": {},
   "outputs": [
    {
     "name": "stdout",
     "output_type": "stream",
     "text": [
      "'sample_orderdata.csv' created successfully!\n",
      "   OrderID    Product  Quantity  Price  Freight    Total\n",
      "0     1001  Product_0         7  57.23    35.75   436.36\n",
      "1     1002  Product_1        20  45.99    32.45   952.25\n",
      "2     1003  Product_2        15  14.20    42.49   255.49\n",
      "3     1004  Product_3        11  97.64    12.80  1086.84\n",
      "4     1005  Product_4         8  30.95    22.60   270.20\n"
     ]
    }
   ],
   "source": [
    "import pandas as pd\n",
    "import csv \n",
    "import numpy as np\n",
    "\n",
    "rows = 20\n",
    "\n",
    "# Random seed for reproducibility\n",
    "np.random.seed(42)\n",
    "\n",
    "# Generate sample columns\n",
    "order_ids = np.arange(1001, 1001 + rows)\n",
    "products = []\n",
    "for i in range(rows):\n",
    "    products.append(f\"Product_{i}\")\n",
    "\n",
    "quantities = np.random.randint(1, 21, size=rows) # Quantity between 1 and 20 for the number of the\n",
    "prices = np.random.uniform(10, 100, size=rows).round(2) # Price between 10 and 100,rounded to 2 decimals\n",
    "freights = np.random.uniform(5, 50, size=rows).round(2) # Freight between 5 and 50, rounded to 2 decimals\n",
    "\n",
    "# Create DataFrame\n",
    "df = pd.DataFrame({\n",
    "    'OrderID': order_ids,\n",
    "    'Product': products,\n",
    "    'Quantity':quantities,\n",
    "    'Price': prices,\n",
    "    'Freight': freights  \n",
    "})\n",
    "\n",
    "# Cell 1: Read CSV file into DataFrame\n",
    "\n",
    "# Save the initial DataFrame to CSV\n",
    "df.to_csv('sample_orderdata.csv', index=False)\n",
    "\n",
    "# Read CSV file into DataFrame (if needed)\n",
    "df = pd.read_csv('sample_orderdata.csv')\n",
    "\n",
    "#create total column    \n",
    "df['Total'] = df['Quantity'] * df['Price'] + df['Freight']\n",
    "\n",
    "# Save the DataFrame to a new CSV file\n",
    "df.to_csv('orderdata_with_total.csv', index=False)\n",
    "print(\"'sample_orderdata.csv' created successfully!\")\n",
    "print(df.head())"
   ]
  },
  {
   "cell_type": "code",
   "execution_count": 3,
   "id": "0286265c",
   "metadata": {},
   "outputs": [
    {
     "name": "stdout",
     "output_type": "stream",
     "text": [
      "[0.37454012 0.95071431 0.73199394 0.59865848 0.15601864]\n"
     ]
    }
   ],
   "source": [
    "import numpy as np\n",
    "\n",
    "# Set the seed\n",
    "np.random.seed(42)\n",
    "\n",
    "# Generate random numbers\n",
    "random_numbers = np.random.rand(5)\n",
    "print(random_numbers)"
   ]
  }
 ],
 "metadata": {
  "kernelspec": {
   "display_name": "Python 3",
   "language": "python",
   "name": "python3"
  },
  "language_info": {
   "codemirror_mode": {
    "name": "ipython",
    "version": 3
   },
   "file_extension": ".py",
   "mimetype": "text/x-python",
   "name": "python",
   "nbconvert_exporter": "python",
   "pygments_lexer": "ipython3",
   "version": "3.11.5"
  }
 },
 "nbformat": 4,
 "nbformat_minor": 5
}
