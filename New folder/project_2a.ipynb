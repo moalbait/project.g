{
 "cells": [
  {
   "cell_type": "code",
   "execution_count": null,
   "id": "0f20f846",
   "metadata": {},
   "outputs": [],
   "source": [
    "import numpy as np\n",
    "\n",
    "try:\n",
    "    score= float(input(\"Enter your score (0.0-1.0): \"))\n",
    "    if score < 0.0 or score > 1.0:\n",
    "        raise ValueError(\"Score must be between 0.0 and 1.0\")\n",
    "    if score >= 0.9:\n",
    "        grade = 'A'\n",
    "    elif score >= 0.8:\n",
    "        grade = 'B'\n",
    "    elif score >= 0.7:\n",
    "        grade = 'C'\n",
    "    elif score >= 0.6:\n",
    "        grade = 'D'\n",
    "    else:\n",
    "        grade = 'F'\n",
    "\n",
    "    print(f\"Your grade is: {grade}\")\n",
    "\n",
    "except ValueError as e:\n",
    "    print(f\"Invalid input: {e}\")\n",
    "\n",
    "\n",
    "\n"
   ]
  },
  {
   "cell_type": "code",
   "execution_count": null,
   "id": "ca219eae",
   "metadata": {},
   "outputs": [],
   "source": [
    "# Count from 1 to 10\n",
    "if hour>0 and hour <24:\n",
    "                        if hour not in hours:\n",
    "                            hours[hour] =1\n",
    "                        else:\n",
    "                            hours[hour] +=1"
   ]
  },
  {
   "cell_type": "code",
   "execution_count": null,
   "id": "35e36ae3",
   "metadata": {},
   "outputs": [
    {
     "name": "stdout",
     "output_type": "stream",
     "text": [
      "An error occurred: [Errno 2] No such file or directory: 'romeo-full.txt'\n"
     ]
    }
   ],
   "source": [
    "'''\n",
    "Exercise 3: Write a program that reads a file and prints the letters in decreasing\n",
    "order of frequency.\n",
    "Your program should convert all the input to lower case and only count the letters\n",
    "a-z. Your program should not count spaces, digits, punctuation, or anything other\n",
    "than the letters a-z. Find text samples from several different languages and see\n",
    "how letter frequency varies between languages.\n",
    "from collections import Counter\n",
    "'''\n",
    "import string\n",
    "try: \n",
    "    with open('mbox-short.txt') as lines:\n",
    "       for line in lines:\n",
    "           # line =line.rstrip()# remove trailing whitespace\n",
    "            line = line.strip()# remove leading/trailing whitespace\n",
    "            line = line.lower()\n",
    "            line =line.translate(str.maketrans('','',string.punctuation)) # remove punctuation\n",
    "            print(line)\n",
    "                       \n",
    "except Exception as e:\n",
    "    print(f\"An error occurred: {e}\")\n",
    "\n"
   ]
  }
 ],
 "metadata": {
  "kernelspec": {
   "display_name": "Python 3",
   "language": "python",
   "name": "python3"
  },
  "language_info": {
   "codemirror_mode": {
    "name": "ipython",
    "version": 3
   },
   "file_extension": ".py",
   "mimetype": "text/x-python",
   "name": "python",
   "nbconvert_exporter": "python",
   "pygments_lexer": "ipython3",
   "version": "3.11.5"
  }
 },
 "nbformat": 4,
 "nbformat_minor": 5
}
