{
 "cells": [
  {
   "cell_type": "markdown",
   "metadata": {
    "collapsed": true
   },
   "source": [
    "# Lab 1, Exercise 5\n",
    "# Document and Structure Code\n"
   ]
  },
  {
   "cell_type": "code",
   "execution_count": null,
   "metadata": {},
   "outputs": [],
   "source": [
    "# Create a function that adds two numbers and prints the sum of them.\n",
    "\n",
    "def sum (num1, num2):\n",
    "    sum = num1 +num2\n",
    "    print (\"The sum is: \" + (sum))\n",
    "\n",
    "reslut= sum(3,5)\n",
    "print (reslut)"
   ]
  },
  {
   "cell_type": "code",
   "execution_count": null,
   "metadata": {},
   "outputs": [],
   "source": [
    "# Create a function that multiplies two provided variables.\n",
    "# Use a return statement with no variable assigned to it and test output of the function.\n",
    "\n",
    "def multiply(num1, num2):\n",
    "    product = num1*num2\n",
    "    return \n",
    "result = multiply(4, 7)\n",
    "print(result)  # This will print 'None' since the function returns nothing.\n",
    "\n"
   ]
  },
  {
   "cell_type": "code",
   "execution_count": null,
   "metadata": {},
   "outputs": [],
   "source": [
    "# Create a function that multiplies two provided variables and returns the result.\n",
    "# Return the result after the function ends.  Use parameter names when calling the function.\n",
    "\n",
    "def multiply(var1, var2):\n",
    "    product = var1*var2\n",
    "    return product\n",
    "product_result = multiply(7,9)\n",
    "print( product_result)"
   ]
  },
  {
   "cell_type": "code",
   "execution_count": null,
   "metadata": {},
   "outputs": [],
   "source": [
    "# Create a function that multiplies two provided variables and returns the result.\n",
    "# Provide the values using keyboard input.\n",
    "\n",
    "def multiply(var1, var2):\n",
    "    product = var1*var2\n",
    "    return product\n",
    "\n",
    "input_var1 = int(input(\"Enter the first number to multiply: \"))\n",
    "input_var2 = int(input(\"Enter the second number to multiply: \"))\n",
    "product_result = multiply(input_var1, input_var2)\n",
    "print (product_result)"
   ]
  },
  {
   "cell_type": "code",
   "execution_count": null,
   "metadata": {},
   "outputs": [],
   "source": [
    "# Create a function that multiplies two provided variables and returns the result.\n",
    "# Include default values for the parameters and a docstring\n",
    "\n",
    "def multiply(var1 =1, var2=1):\n",
    "   '''Parameters:\n",
    "        a (int or float): The first number. Default is 1.\n",
    "        b (int or float): The second number. Default is 1..\n",
    "        '''\n",
    "   return  var1*var2\n",
    "print(multiply())  # Uses default values\n",
    "print(multiply(5))  # Uses default value for var2\n",
    "print(multiply(5, 4))  # Uses provided values"
   ]
  },
  {
   "cell_type": "code",
   "execution_count": null,
   "metadata": {},
   "outputs": [],
   "source": [
    "# Create a function that multiplies two provided variables.\n",
    "# Use a global variable in the function instead of the return statement to capture the output\n",
    "\n",
    "def multiply(var1, var2):\n",
    "    global product_global # Declare a global variable\n",
    "    product_global = var1 * var2\n",
    "print (f\"initial product_global balue: {product_global}\")"
   ]
  },
  {
   "cell_type": "code",
   "execution_count": null,
   "metadata": {},
   "outputs": [],
   "source": [
    "# This code is an extension of what was done in the previous exercise (You may also view the C:\\Labfiles\\CreateRGSA.py).\n",
    "# In addition to creating a storage account, you will now be copying files to a blob and file share that are accessible over the Internet\n",
    "# Run this code from Azure Cloud Shell\n",
    "\n",
    "\n",
    "# DO NOT DELETE THIS RESOURCE GROUP OR ITS RESOURCES until you complete project5.\n",
    "# delete_async_operation = resource_client.resource_groups.delete(resourcegroupname)\n",
    "# delete_async_operation.wait()\n",
    "\n"
   ]
  },
  {
   "cell_type": "code",
   "execution_count": null,
   "metadata": {},
   "outputs": [
    {
     "name": "stdout",
     "output_type": "stream",
     "text": [
      "Current working directory: c:\\Users\\moalb\\OneDrive\\Desktop\\AI and ML\\python\n"
     ]
    },
    {
     "ename": "FileNotFoundError",
     "evalue": "[Errno 2] No such file or directory: 'myfile.txt'",
     "output_type": "error",
     "traceback": [
      "\u001b[31m---------------------------------------------------------------------------\u001b[39m",
      "\u001b[31mFileNotFoundError\u001b[39m                         Traceback (most recent call last)",
      "\u001b[36mCell\u001b[39m\u001b[36m \u001b[39m\u001b[32mIn[2]\u001b[39m\u001b[32m, line 3\u001b[39m\n\u001b[32m      1\u001b[39m \u001b[38;5;28;01mimport\u001b[39;00m\u001b[38;5;250m \u001b[39m\u001b[34;01mos\u001b[39;00m\n\u001b[32m      2\u001b[39m \u001b[38;5;28mprint\u001b[39m(\u001b[33mf\u001b[39m\u001b[33m\"\u001b[39m\u001b[33mCurrent working directory: \u001b[39m\u001b[38;5;132;01m{\u001b[39;00mos.getcwd()\u001b[38;5;132;01m}\u001b[39;00m\u001b[33m\"\u001b[39m)\n\u001b[32m----> \u001b[39m\u001b[32m3\u001b[39m lines= \u001b[38;5;28;43mopen\u001b[39;49m\u001b[43m(\u001b[49m\u001b[33;43m\"\u001b[39;49m\u001b[33;43mmyfile.txt\u001b[39;49m\u001b[33;43m\"\u001b[39;49m\u001b[43m)\u001b[49m\n\u001b[32m      4\u001b[39m count =\u001b[32m0\u001b[39m\n\u001b[32m      5\u001b[39m \u001b[38;5;28;01mfor\u001b[39;00m line \u001b[38;5;129;01min\u001b[39;00m lines:\n",
      "\u001b[36mFile \u001b[39m\u001b[32m~\\AppData\\Roaming\\Python\\Python311\\site-packages\\IPython\\core\\interactiveshell.py:343\u001b[39m, in \u001b[36m_modified_open\u001b[39m\u001b[34m(file, *args, **kwargs)\u001b[39m\n\u001b[32m    336\u001b[39m \u001b[38;5;28;01mif\u001b[39;00m file \u001b[38;5;129;01min\u001b[39;00m {\u001b[32m0\u001b[39m, \u001b[32m1\u001b[39m, \u001b[32m2\u001b[39m}:\n\u001b[32m    337\u001b[39m     \u001b[38;5;28;01mraise\u001b[39;00m \u001b[38;5;167;01mValueError\u001b[39;00m(\n\u001b[32m    338\u001b[39m         \u001b[33mf\u001b[39m\u001b[33m\"\u001b[39m\u001b[33mIPython won\u001b[39m\u001b[33m'\u001b[39m\u001b[33mt let you open fd=\u001b[39m\u001b[38;5;132;01m{\u001b[39;00mfile\u001b[38;5;132;01m}\u001b[39;00m\u001b[33m by default \u001b[39m\u001b[33m\"\u001b[39m\n\u001b[32m    339\u001b[39m         \u001b[33m\"\u001b[39m\u001b[33mas it is likely to crash IPython. If you know what you are doing, \u001b[39m\u001b[33m\"\u001b[39m\n\u001b[32m    340\u001b[39m         \u001b[33m\"\u001b[39m\u001b[33myou can use builtins\u001b[39m\u001b[33m'\u001b[39m\u001b[33m open.\u001b[39m\u001b[33m\"\u001b[39m\n\u001b[32m    341\u001b[39m     )\n\u001b[32m--> \u001b[39m\u001b[32m343\u001b[39m \u001b[38;5;28;01mreturn\u001b[39;00m \u001b[43mio_open\u001b[49m\u001b[43m(\u001b[49m\u001b[43mfile\u001b[49m\u001b[43m,\u001b[49m\u001b[43m \u001b[49m\u001b[43m*\u001b[49m\u001b[43margs\u001b[49m\u001b[43m,\u001b[49m\u001b[43m \u001b[49m\u001b[43m*\u001b[49m\u001b[43m*\u001b[49m\u001b[43mkwargs\u001b[49m\u001b[43m)\u001b[49m\n",
      "\u001b[31mFileNotFoundError\u001b[39m: [Errno 2] No such file or directory: 'myfile.txt'"
     ]
    },
    {
     "ename": "",
     "evalue": "",
     "output_type": "error",
     "traceback": [
      "\u001b[1;31mThe Kernel crashed while executing code in the current cell or a previous cell. \n",
      "\u001b[1;31mPlease review the code in the cell(s) to identify a possible cause of the failure. \n",
      "\u001b[1;31mClick <a href='https://aka.ms/vscodeJupyterKernelCrash'>here</a> for more info. \n",
      "\u001b[1;31mView Jupyter <a href='command:jupyter.viewOutput'>log</a> for further details."
     ]
    }
   ],
   "source": [
    "import os\n",
    "print(f\"Current working directory: {os.getcwd()}\")\n",
    "lines= open(\"myfile.txt\")\n",
    "count =0\n",
    "for line in lines:\n",
    "    count +=1\n",
    "    line= line.rstrip()\n",
    "    if not line.startswith('since'):\n",
    "        continue \n",
    "    print(line)\n",
    "print(\"line count :\",count)"
   ]
  }
 ],
 "metadata": {
  "kernelspec": {
   "display_name": "Python 3",
   "language": "python",
   "name": "python3"
  },
  "language_info": {
   "codemirror_mode": {
    "name": "ipython",
    "version": 3
   },
   "file_extension": ".py",
   "mimetype": "text/x-python",
   "name": "python",
   "nbconvert_exporter": "python",
   "pygments_lexer": "ipython3",
   "version": "3.11.5"
  }
 },
 "nbformat": 4,
 "nbformat_minor": 2
}
